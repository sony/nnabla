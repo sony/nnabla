{
 "cells": [
  {
   "cell_type": "markdown",
   "metadata": {},
   "source": [
    "# Data Parallel Distributed Training"
   ]
  },
  {
   "cell_type": "markdown",
   "metadata": {},
   "source": [
    "DataParallelCommunicator enables to train your neural network using \n",
    "multiple devices. It is normally used for gradients exchange in data \n",
    "parallel distributed training. Basically, there are two types of distributed trainings in Neural Network\n",
    "literature: Data Parallel and Model Parallel. Here we only focus on \n",
    "the former, Data Parallel Training. Data Parallel Distributed Training is based on the very simple equation \n",
    "used for the optimization of a neural network called (Mini-Batch) Stochastic \n",
    "Gradient Descent. \n",
    "\n",
    "In the optimization process, the objective one tries to minimize is \n",
    "\n",
    "$$\n",
    "f(\\mathbf{w}; X) = \\frac{1}{B \\times N} \\sum_{i=1}^{B \\times N} \\ell(\\mathbf{w}, \\mathbf{x}_i),\n",
    "$$\n",
    "\n",
    "where $f$ is a neural network, $B \\times N$ is the batch size, $\\ell$ is a loss function for each \n",
    "data point $\\mathbf{x} \\in X$, and $\\mathbf{w}$ is the trainable parameter of the\n",
    "neural network. \n",
    "\n",
    "When taking the derivative of this objective, one gets,\n",
    "\n",
    "$$\n",
    "\\nabla_{\\mathbf{w}} f(\\mathbf{w}; X) = \\frac{1}{B \\times N} \\sum_{i=1}^{B \\times N} \\nabla_{\\mathbf{w}} \\ell (\\mathbf{w}, \\mathbf{x}_i).\n",
    "$$\n",
    "\n",
    "Since the derivative has linearity, one can change the \n",
    "objective to the sum of summations each of which is the sum of derivatives over $B$ data points.    \n",
    "\n",
    "$$\n",
    "\\nabla_{\\mathbf{w}} f(\\mathbf{w}; X) = \\frac{1}{N} \\left(\n",
    " \\frac{1}{B} \\sum_{i=1}^{B} \\nabla_{\\mathbf{w}} \\ell (\\mathbf{w}, \\mathbf{x}_i) \\\n",
    " + \\frac{1}{B} \\sum_{i=B+1}^{B \\times 2} \\nabla_{\\mathbf{w}} \\ell (\\mathbf{w}, \\mathbf{x}_i) \\\n",
    " + \\ldots \\\n",
    " + \\frac{1}{B} \\sum_{i=B \\times (N-1) + 1}^{B \\times N} \\nabla_{\\mathbf{w}} \\ell (\\mathbf{w}, \\mathbf{x}_i)\n",
    "\\right)\n",
    "$$\n",
    "\n",
    "In data parallel distributed training, the following steps are performed\n",
    "according to the above equation, \n",
    "\n",
    "1. each term, summation of derivatives (gradients) divided by batch size $B$, is computed on a separated device (typically GPU),\n",
    "2. take the sum over devices,\n",
    "3. divide the result by the number of devices, $N$.\n",
    "\n",
    "That is the underlying foundation of Data Parallel Distributed Training.\n",
    "\n",
    "This tutorial shows the usage of Multi Process Data Parallel \n",
    "Communicator for data parallel distributed training with \n",
    "a very simple example."
   ]
  },
  {
   "cell_type": "markdown",
   "metadata": {},
   "source": [
    "### NOTE\n",
    "\n",
    "This tutorial depends on **IPython Cluster**, thus when you want to run the following excerpts of the scripts on Jupyter Notebook, follow [this](https://ipython.org/ipython-doc/3/parallel/parallel_process.html#using-ipcluster-in-mpiexec-mpirun-mode) to enable  mpiexec/mpirun mode, then launch a corresponding Ipython Cluster on Ipython Clusters tab."
   ]
  },
  {
   "cell_type": "markdown",
   "metadata": {},
   "source": [
    "## Launch client"
   ]
  },
  {
   "cell_type": "markdown",
   "metadata": {},
   "source": [
    "This code is **only** needed for this tutorial via **Jupyter Notebook**."
   ]
  },
  {
   "cell_type": "code",
   "execution_count": 1,
   "metadata": {
    "collapsed": true
   },
   "outputs": [],
   "source": [
    "import ipyparallel as ipp\n",
    "rc = ipp.Client(profile='mpi')"
   ]
  },
  {
   "cell_type": "markdown",
   "metadata": {},
   "source": [
    "### Prepare the dependencies"
   ]
  },
  {
   "cell_type": "code",
   "execution_count": 2,
   "metadata": {
    "collapsed": true
   },
   "outputs": [],
   "source": [
    "%%px\n",
    "import os\n",
    "import time\n",
    "\n",
    "import nnabla as nn\n",
    "import nnabla.communicators as C\n",
    "from nnabla.ext_utils import get_extension_context\n",
    "import nnabla.functions as F\n",
    "from nnabla.initializer import (\n",
    "    calc_uniform_lim_glorot,\n",
    "    UniformInitializer)\n",
    "import nnabla.parametric_functions as PF\n",
    "import nnabla.solvers as S\n",
    "import numpy as np"
   ]
  },
  {
   "cell_type": "markdown",
   "metadata": {},
   "source": [
    "### Define the communicator for gradients exchange. "
   ]
  },
  {
   "cell_type": "code",
   "execution_count": 3,
   "metadata": {
    "collapsed": true
   },
   "outputs": [],
   "source": [
    "%%px\n",
    "extension_module = \"cudnn\"\n",
    "ctx = get_extension_context(extension_module)\n",
    "comm = C.MultiProcessCommunicator(ctx)\n",
    "comm.init()\n",
    "n_devices = comm.size\n",
    "mpi_rank = comm.rank\n",
    "device_id = mpi_rank\n",
    "ctx = get_extension_context(extension_module, device_id=device_id)"
   ]
  },
  {
   "cell_type": "markdown",
   "metadata": {},
   "source": [
    "Check different ranks are assigned to different devices"
   ]
  },
  {
   "cell_type": "code",
   "execution_count": 4,
   "metadata": {
    "collapsed": false
   },
   "outputs": [
    {
     "name": "stdout",
     "output_type": "stream",
     "text": [
      "[stdout:0] \n",
      "n_devices=2\n",
      "mpi_rank=1\n",
      "[stdout:1] \n",
      "n_devices=2\n",
      "mpi_rank=0\n"
     ]
    }
   ],
   "source": [
    "%%px\n",
    "print(\"n_devices={}\".format(n_devices))\n",
    "print(\"mpi_rank={}\".format(mpi_rank))"
   ]
  },
  {
   "cell_type": "markdown",
   "metadata": {},
   "source": [
    "### Create data points and a very simple neural network  \n"
   ]
  },
  {
   "cell_type": "code",
   "execution_count": 5,
   "metadata": {
    "collapsed": true
   },
   "outputs": [],
   "source": [
    "%%px\n",
    "# Data points setting\n",
    "n_class = 2\n",
    "b, c, h, w = 4, 1, 32, 32 \n",
    "\n",
    "# Data points\n",
    "x_data = np.random.rand(b, c, h, w)\n",
    "y_data = np.random.choice(n_class, b).reshape((b, 1))\n",
    "x = nn.Variable(x_data.shape)\n",
    "y = nn.Variable(y_data.shape)\n",
    "x.d = x_data\n",
    "y.d = y_data\n",
    "\n",
    "# Network setting\n",
    "C = 1\n",
    "kernel = (3, 3)\n",
    "pad = (1, 1)\n",
    "stride = (1, 1)\n"
   ]
  },
  {
   "cell_type": "code",
   "execution_count": 6,
   "metadata": {
    "collapsed": true
   },
   "outputs": [],
   "source": [
    "%%px\n",
    "rng = np.random.RandomState(0)\n",
    "w_init = UniformInitializer(\n",
    "                    calc_uniform_lim_glorot(C, C/2, kernel=(1, 1)), \n",
    "                    rng=rng)\n"
   ]
  },
  {
   "cell_type": "code",
   "execution_count": 7,
   "metadata": {
    "collapsed": true
   },
   "outputs": [],
   "source": [
    "%%px\n",
    "# Network\n",
    "with nn.context_scope(ctx):\n",
    "    h = PF.convolution(x, C, kernel, pad, stride, w_init=w_init)\n",
    "    pred = PF.affine(h, n_class, w_init=w_init)\n",
    "    loss = F.mean(F.softmax_cross_entropy(pred, y))"
   ]
  },
  {
   "cell_type": "markdown",
   "metadata": {},
   "source": [
    "**Important notice** here is that `w_init` is passed to parametric functions\n",
    "to let the network on each GPU start from the same values of trainable parameters in the \n",
    "optimization process."
   ]
  },
  {
   "cell_type": "markdown",
   "metadata": {},
   "source": [
    "### Create a solver."
   ]
  },
  {
   "cell_type": "code",
   "execution_count": 8,
   "metadata": {
    "collapsed": true
   },
   "outputs": [],
   "source": [
    "%%px\n",
    "# Solver and add parameters\n",
    "solver = S.Adam()\n",
    "solver.set_parameters(nn.get_parameters())"
   ]
  },
  {
   "cell_type": "markdown",
   "metadata": {},
   "source": [
    "### Training"
   ]
  },
  {
   "cell_type": "markdown",
   "metadata": {},
   "source": [
    "Recall the basic usage of `nnabla` API for training a neural network,\n",
    "it is\n",
    "\n",
    "1. loss.forward()\n",
    "2. solver.zero_grad()\n",
    "3. loss.backward()\n",
    "4. solver.update()\n",
    "\n",
    "In use of `C.MultiProcessCommunicator`, these steps are performed in \n",
    "different GPUs, and the **only difference** from these steps is `comm.all_reduce()`.\n",
    "Thus, in case of `C.MultiProcessCommunicator` training steps are \n",
    "as follows, \n",
    "  \n",
    "1. loss.forward()\n",
    "2. solver.zero_grad()\n",
    "3. loss.backward()\n",
    "4. **comm.all_reduce([x.grad for x in nn.get_parameters().values()])**\n",
    "5. solver.update()\n",
    "\n",
    "First, forward, zero_grad, and backward,"
   ]
  },
  {
   "cell_type": "code",
   "execution_count": 9,
   "metadata": {
    "collapsed": true
   },
   "outputs": [],
   "source": [
    "%%px\n",
    "# Training steps\n",
    "loss.forward()\n",
    "solver.zero_grad()\n",
    "loss.backward()"
   ]
  },
  {
   "cell_type": "markdown",
   "metadata": {},
   "source": [
    "Check gradients of weights once, "
   ]
  },
  {
   "cell_type": "code",
   "execution_count": 10,
   "metadata": {
    "collapsed": false
   },
   "outputs": [
    {
     "name": "stdout",
     "output_type": "stream",
     "text": [
      "[stdout:0] \n",
      "('conv/W', array([[[[ 5.0180483,  0.457942 , -2.8701296],\n",
      "         [ 2.0715926,  3.0698593, -1.6650047],\n",
      "         [-2.5591214,  6.4248834,  9.881935 ]]]], dtype=float32))\n",
      "('conv/b', array([8.658947], dtype=float32))\n",
      "('affine/W', array([[-0.93160367,  0.9316036 ],\n",
      "       [-1.376812  ,  1.376812  ],\n",
      "       [-1.8957546 ,  1.8957543 ],\n",
      "       ...,\n",
      "       [-0.33000934,  0.33000934],\n",
      "       [-0.7211893 ,  0.72118926],\n",
      "       [-0.25237036,  0.25237036]], dtype=float32))\n",
      "('affine/b', array([-0.48865744,  0.48865741], dtype=float32))\n",
      "[stdout:1] \n",
      "('conv/W', array([[[[ -1.2505884 ,  -0.87151337,  -8.685524  ],\n",
      "         [ 10.738419  ,  14.676786  ,   7.483423  ],\n",
      "         [  5.612471  , -12.880402  ,  19.141157  ]]]], dtype=float32))\n",
      "('conv/b', array([13.196114], dtype=float32))\n",
      "('affine/W', array([[-1.6865108 ,  1.6865108 ],\n",
      "       [-0.938529  ,  0.938529  ],\n",
      "       [-1.028422  ,  1.028422  ],\n",
      "       ...,\n",
      "       [-0.98217344,  0.98217344],\n",
      "       [-0.97528917,  0.97528917],\n",
      "       [-0.413546  ,  0.413546  ]], dtype=float32))\n",
      "('affine/b', array([-0.7447065,  0.7447065], dtype=float32))\n"
     ]
    }
   ],
   "source": [
    "%%px\n",
    "for n, v in nn.get_parameters().items():\n",
    "    print(n, v.g)"
   ]
  },
  {
   "cell_type": "markdown",
   "metadata": {
    "collapsed": true
   },
   "source": [
    "You can see the different values on each device, then call `all_reduce`, "
   ]
  },
  {
   "cell_type": "code",
   "execution_count": 11,
   "metadata": {
    "collapsed": true
   },
   "outputs": [],
   "source": [
    "%%px\n",
    "comm.all_reduce([x.grad for x in nn.get_parameters().values()], division=True)"
   ]
  },
  {
   "cell_type": "markdown",
   "metadata": {},
   "source": [
    "Commonly, `all_reduce` only means the sum; however, `comm.all_reduce` addresses\n",
    "both cases: summation and summation division. "
   ]
  },
  {
   "cell_type": "markdown",
   "metadata": {},
   "source": [
    "Again, check gradients of weights,"
   ]
  },
  {
   "cell_type": "code",
   "execution_count": 12,
   "metadata": {
    "collapsed": false
   },
   "outputs": [
    {
     "name": "stdout",
     "output_type": "stream",
     "text": [
      "[stdout:0] \n",
      "('conv/W', array([[[[ 1.8837299 , -0.20678568, -5.777827  ],\n",
      "         [ 6.4050055 ,  8.8733225 ,  2.9092093 ],\n",
      "         [ 1.5266749 , -3.2277591 , 14.511546  ]]]], dtype=float32))\n",
      "('conv/b', array([21.85506], dtype=float32))\n",
      "('affine/W', array([[-2.6181145,  2.6181145],\n",
      "       [-2.315341 ,  2.315341 ],\n",
      "       [-2.9241767,  2.9241762],\n",
      "       ...,\n",
      "       [-1.3121828,  1.3121828],\n",
      "       [-1.6964785,  1.6964784],\n",
      "       [-0.6659163,  0.6659163]], dtype=float32))\n",
      "('affine/b', array([-1.233364 ,  1.2333639], dtype=float32))\n",
      "[stdout:1] \n",
      "('conv/W', array([[[[ 1.8837299 , -0.20678568, -5.777827  ],\n",
      "         [ 6.4050055 ,  8.8733225 ,  2.9092093 ],\n",
      "         [ 1.5266749 , -3.2277591 , 14.511546  ]]]], dtype=float32))\n",
      "('conv/b', array([21.85506], dtype=float32))\n",
      "('affine/W', array([[-2.6181145,  2.6181145],\n",
      "       [-2.315341 ,  2.315341 ],\n",
      "       [-2.9241767,  2.9241762],\n",
      "       ...,\n",
      "       [-1.3121828,  1.3121828],\n",
      "       [-1.6964785,  1.6964784],\n",
      "       [-0.6659163,  0.6659163]], dtype=float32))\n",
      "('affine/b', array([-1.233364 ,  1.2333639], dtype=float32))\n"
     ]
    }
   ],
   "source": [
    "%%px\n",
    "for n, v in nn.get_parameters().items():\n",
    "    print(n, v.g)"
   ]
  },
  {
   "cell_type": "markdown",
   "metadata": {},
   "source": [
    "You can see the same values over the devices because of `all_reduce`."
   ]
  },
  {
   "cell_type": "markdown",
   "metadata": {},
   "source": [
    "Update weights,"
   ]
  },
  {
   "cell_type": "code",
   "execution_count": 13,
   "metadata": {
    "collapsed": true
   },
   "outputs": [],
   "source": [
    "%%px\n",
    "solver.update()"
   ]
  },
  {
   "cell_type": "markdown",
   "metadata": {},
   "source": [
    "This concludes the usage of ``C.MultiProcessCommunicator`` for\n",
    "Data Parallel Distributed Training."
   ]
  },
  {
   "cell_type": "markdown",
   "metadata": {},
   "source": [
    "Now you should have an understanding of how to use ``C.MultiProcessCommunicator``, \n",
    "go to the cifar10 example,\n",
    "\n",
    "1. **multi_device_multi_process_classification.sh**\n",
    "2. **multi_device_multi_process_classification.py**  \n",
    "\n",
    "for more details."
   ]
  }
 ],
 "metadata": {
  "kernelspec": {
   "display_name": "Python 2",
   "language": "python",
   "name": "python2"
  },
  "language_info": {
   "codemirror_mode": {
    "name": "ipython",
    "version": 2
   },
   "file_extension": ".py",
   "mimetype": "text/x-python",
   "name": "python",
   "nbconvert_exporter": "python",
   "pygments_lexer": "ipython2",
   "version": "2.7.12"
  }
 },
 "nbformat": 4,
 "nbformat_minor": 1
}
