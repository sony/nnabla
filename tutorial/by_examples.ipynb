{
 "cells": [
  {
   "cell_type": "markdown",
   "metadata": {},
   "source": [
    "# NNabla by Examples"
   ]
  },
  {
   "cell_type": "markdown",
   "metadata": {},
   "source": [
    "This tutorial demonstrates how you can write a script to train a neural network by using a simple hand digits classification task."
   ]
  },
  {
   "cell_type": "markdown",
   "metadata": {},
   "source": [
    "Note: This tutorial notebook requires [scikit-learn](http://scikit-learn.org) and [matplotlib](https://matplotlib.org/) installed in your Python environment."
   ]
  },
  {
   "cell_type": "markdown",
   "metadata": {},
   "source": [
    "First let us prepare some dependencies."
   ]
  },
  {
   "cell_type": "code",
   "execution_count": null,
   "metadata": {
    "collapsed": true
   },
   "outputs": [],
   "source": [
    "# Python2/3 compatibility\n",
    "from __future__ import print_function\n",
    "from __future__ import absolute_import\n",
    "from __future__ import division"
   ]
  },
  {
   "cell_type": "code",
   "execution_count": null,
   "metadata": {},
   "outputs": [],
   "source": [
    "import nnabla as nn\n",
    "\n",
    "import nnabla.functions as F\n",
    "import nnabla.parametric_functions as PF\n",
    "import nnabla.solvers as S\n",
    "from nnabla.monitor import tile_images\n",
    "\n",
    "import numpy as np\n",
    "import matplotlib.pyplot as plt\n",
    "import tiny_digits\n",
    "%matplotlib inline\n",
    "\n",
    "np.random.seed(0)\n",
    "imshow_opt = dict(cmap='gray', interpolation='nearest')"
   ]
  },
  {
   "cell_type": "markdown",
   "metadata": {},
   "source": [
    "The `tiny_digits` module is located under this folder. It provides some utilities for loading a handwritten-digit classification dataset (MNIST) available in scikit-learn."
   ]
  },
  {
   "cell_type": "markdown",
   "metadata": {},
   "source": [
    "## Logistic Regression\n",
    "\n",
    "We will first start by defining a computation graph for logistic regression. (For details on logistic regression, see Appendix A.)\n",
    "\n",
    "The training will be done by gradient descent, where gradients are calculated using the error backpropagation algorithm (backprop)."
   ]
  },
  {
   "cell_type": "markdown",
   "metadata": {},
   "source": [
    "### Preparing a Toy Dataset\n",
    "This section just prepares a dataset to be used for demonstration of NNabla usage."
   ]
  },
  {
   "cell_type": "code",
   "execution_count": null,
   "metadata": {},
   "outputs": [],
   "source": [
    "digits = tiny_digits.load_digits(n_class=10)\n",
    "tiny_digits.plot_stats(digits)"
   ]
  },
  {
   "cell_type": "markdown",
   "metadata": {},
   "source": [
    "The next block creates a dataset loader which is a generator providing images and labels as minibatches. Note that this dataset is just an example purpose and not a part of NNabla. "
   ]
  },
  {
   "cell_type": "code",
   "execution_count": null,
   "metadata": {},
   "outputs": [],
   "source": [
    "data = tiny_digits.data_iterator_tiny_digits(digits, batch_size=64, shuffle=True)"
   ]
  },
  {
   "cell_type": "markdown",
   "metadata": {},
   "source": [
    "A minibatch is as follows. `img` and `label` are in `numpy.ndarray`."
   ]
  },
  {
   "cell_type": "code",
   "execution_count": null,
   "metadata": {},
   "outputs": [],
   "source": [
    "img, label = data.next()\n",
    "plt.imshow(tile_images(img), **imshow_opt)\n",
    "print(\"labels:\", label.reshape(8, 8))\n",
    "print(\"Label shape:\", label.shape)"
   ]
  },
  {
   "cell_type": "markdown",
   "metadata": {},
   "source": [
    "### Preparing the Computation Graph\n",
    "\n",
    "NNabla provides two different ways for backprop-based gradient descent optimization. One is with a static graph, and another is with a dynamic graph. We are going to show a static version first."
   ]
  },
  {
   "cell_type": "code",
   "execution_count": null,
   "metadata": {
    "collapsed": true
   },
   "outputs": [],
   "source": [
    "# Forward pass\n",
    "x = nn.Variable(img.shape)  # Define an image variable\n",
    "with nn.parameter_scope(\"affine1\"):\n",
    "    y = PF.affine(x, 10)  # Output is 10 class"
   ]
  },
  {
   "cell_type": "markdown",
   "metadata": {},
   "source": [
    "This code block shows one of the most important features in graph building in NNabla, the **parameter scope**. The first line defines an input variable `x`. The second line creates a **parameter scope**. The third line then applies `PF.affine` - an affine transform - to `x`, and creates a variable `y` holding that result. Here, the `PF` (parametric_function) module provides functions that contain learnable parameters, such as affine transforms (which contains weights), convolution (which contains kernels) and batch normalization (which contains transformation factors and coefficients). We will call these functions as **parametric functions**. The parameters are created and initialized randomly at function call, and registered by a name \"affine1\" using `parameter_scope` context."
   ]
  },
  {
   "cell_type": "code",
   "execution_count": null,
   "metadata": {
    "collapsed": true
   },
   "outputs": [],
   "source": [
    "# Building a loss graph\n",
    "t = nn.Variable(label.shape)  # Define an target variable\n",
    "loss = F.mean(F.softmax_cross_entropy(y, t))  # Softmax Xentropy fits multi-class classification problems"
   ]
  },
  {
   "cell_type": "markdown",
   "metadata": {},
   "source": [
    "The remaining lines shown above define a target variable and attach functions for loss at the end of the graph. Note that the static graph build doesn't execute any computation, but the shapes of output variables are inferred. Therefore, we can inspect the shapes of each variable at this time:"
   ]
  },
  {
   "cell_type": "code",
   "execution_count": null,
   "metadata": {},
   "outputs": [],
   "source": [
    "print(\"Printing shapes of variables\")\n",
    "print(x.shape)\n",
    "print(y.shape)\n",
    "print(t.shape)\n",
    "print(loss.shape)  # empty tuple means scalar"
   ]
  },
  {
   "cell_type": "markdown",
   "metadata": {},
   "source": [
    "### Executing a static graph\n",
    "\n",
    "You can execute the computation of the graph by calling the `forward()` method in a sink variable. Inputs can be set via `.d` accessor. It will borrow CPU array references as `numpy.ndarray`."
   ]
  },
  {
   "cell_type": "code",
   "execution_count": null,
   "metadata": {
    "scrolled": false
   },
   "outputs": [],
   "source": [
    "# Set data\n",
    "x.d = img\n",
    "t.d = label\n",
    "# Execute a forward pass\n",
    "loss.forward()\n",
    "# Showing results\n",
    "print(\"Prediction score of 0-th image:\", y.d[0])\n",
    "print(\"Loss:\", loss.d)"
   ]
  },
  {
   "cell_type": "markdown",
   "metadata": {},
   "source": [
    "The output doesn't make sense since the network is just randomly initialized."
   ]
  },
  {
   "cell_type": "markdown",
   "metadata": {},
   "source": [
    "### Backward propagation through the graph\n",
    "\n",
    "The parameters registered by `parameter_scope` management function can be queried by `get_parameters()` as a dict format."
   ]
  },
  {
   "cell_type": "code",
   "execution_count": null,
   "metadata": {},
   "outputs": [],
   "source": [
    "print(nn.get_parameters())"
   ]
  },
  {
   "cell_type": "markdown",
   "metadata": {},
   "source": [
    "Before executing backpropagation, we should initialize gradient buffers of all parameter to zeros."
   ]
  },
  {
   "cell_type": "code",
   "execution_count": null,
   "metadata": {
    "collapsed": true
   },
   "outputs": [],
   "source": [
    "for param in nn.get_parameters().values():\n",
    "    param.grad.zero()"
   ]
  },
  {
   "cell_type": "markdown",
   "metadata": {},
   "source": [
    "Then, you can execute backprop by calling `backward()` method at the sink variable."
   ]
  },
  {
   "cell_type": "code",
   "execution_count": null,
   "metadata": {},
   "outputs": [],
   "source": [
    "# Compute backward\n",
    "loss.backward()\n",
    "# Showing gradients.\n",
    "for name, param in nn.get_parameters().items():\n",
    "    print(name, param.shape, param.g.flat[:20])  # Showing first 20."
   ]
  },
  {
   "cell_type": "markdown",
   "metadata": {},
   "source": [
    "Gradient is stored in grad field of `Variable`. `.g` accessor can be used to access grad data in `numpy.ndarray` format."
   ]
  },
  {
   "cell_type": "markdown",
   "metadata": {},
   "source": [
    "### Optimizing parameters (=Training)\n",
    "\n",
    "To optimize parameters, we provide solver module (aliased as S here). The solver module contains a bunch of optimizer implementations such as SGD, SGD with momentum, Adam etc. The below block creates SGD solver and sets parameters of logistic regression to it. "
   ]
  },
  {
   "cell_type": "code",
   "execution_count": null,
   "metadata": {
    "collapsed": true
   },
   "outputs": [],
   "source": [
    "# Create a solver (gradient-based optimizer)\n",
    "learning_rate = 1e-3\n",
    "solver = S.Sgd(learning_rate)\n",
    "solver.set_parameters(nn.get_parameters())  # Set parameter variables to be updated."
   ]
  },
  {
   "cell_type": "markdown",
   "metadata": {},
   "source": [
    "In the next block, we demonstrate a single step of optimization loop. `solver.zero_grad()` line does equivalent to calling `.grad.zero()` for all parameters as we shown above. After backward computation, we apply weight decay, then applying gradient descent implemented in Sgd solver class as follows\n",
    "\n",
    "$$\n",
    "\\theta \\leftarrow \\theta - \\eta \\nabla_{\\theta} L(\\theta, X_{\\mathrm minibatch})\n",
    "$$\n",
    "\n",
    "where $\\eta$ denotes learning rate."
   ]
  },
  {
   "cell_type": "code",
   "execution_count": null,
   "metadata": {},
   "outputs": [],
   "source": [
    "# One step of training\n",
    "x.d, t.d = data.next()\n",
    "loss.forward()\n",
    "solver.zero_grad()  # Initialize gradients of all parameters to zero.\n",
    "loss.backward()\n",
    "solver.weight_decay(1e-5)  # Applying weight decay as an regularization\n",
    "solver.update()\n",
    "print(loss.d)"
   ]
  },
  {
   "cell_type": "markdown",
   "metadata": {},
   "source": [
    "Next block iterates optimization steps, and shows the loss decreases."
   ]
  },
  {
   "cell_type": "code",
   "execution_count": null,
   "metadata": {},
   "outputs": [],
   "source": [
    "for i in range(1000):\n",
    "    x.d, t.d = data.next()\n",
    "    loss.forward()\n",
    "    solver.zero_grad()  # Initialize gradients of all parameters to zero.\n",
    "    loss.backward()\n",
    "    solver.weight_decay(1e-5)  # Applying weight decay as an regularization\n",
    "    solver.update()\n",
    "    if i % 100 == 0:  # Print for each 10 iterations\n",
    "        print(i, loss.d)"
   ]
  },
  {
   "cell_type": "markdown",
   "metadata": {},
   "source": [
    "### Show prediction\n",
    "\n",
    "The following code displays training results."
   ]
  },
  {
   "cell_type": "code",
   "execution_count": null,
   "metadata": {},
   "outputs": [],
   "source": [
    "x.d, t.d = data.next()  # Here we predict images from training set although it's useless. \n",
    "y.forward()  # You can execute a sub graph.\n",
    "plt.imshow(tile_images(x.d), **imshow_opt)\n",
    "print(\"prediction:\")\n",
    "print(y.d.argmax(axis=1).reshape(8, 8))  # Taking a class index based on prediction score."
   ]
  },
  {
   "cell_type": "markdown",
   "metadata": {},
   "source": [
    "### Dynamic graph construction support\n",
    "This is another way of running computation graph in NNabla. This example doesn't show how useful dynamic graph is, but shows a bit of flavor."
   ]
  },
  {
   "cell_type": "markdown",
   "metadata": {},
   "source": [
    "The next block just define computation graph building as functions for later use."
   ]
  },
  {
   "cell_type": "code",
   "execution_count": null,
   "metadata": {
    "collapsed": true
   },
   "outputs": [],
   "source": [
    "def logreg_forward(x):\n",
    "    with nn.parameter_scope(\"affine1\"):\n",
    "        y = PF.affine(x, 10)\n",
    "    return y\n",
    "\n",
    "def logreg_loss(y, t):\n",
    "    loss = F.mean(F.softmax_cross_entropy(y, t))  # Softmax Xentropy fits multi-class classification problems\n",
    "    return loss"
   ]
  },
  {
   "cell_type": "markdown",
   "metadata": {},
   "source": [
    "To run a computation graph dynamically during creation, you use `nnabla.auto_forward()` context as you see in the below block. By this, computation is fired immediately at functions are called. (You can also use `nnabla.set_auto_forward(auto)` to set the auto-forward state globally.)"
   ]
  },
  {
   "cell_type": "code",
   "execution_count": null,
   "metadata": {},
   "outputs": [],
   "source": [
    "x = nn.Variable(img.shape)\n",
    "t = nn.Variable(label.shape)\n",
    "x.d, t.d = data.next()\n",
    "with nn.auto_forward():  # Graph are executed \n",
    "    y = logreg_forward(x)\n",
    "    loss = logreg_loss(y, t)\n",
    "print(\"Loss:\", loss.d)\n",
    "plt.imshow(tile_images(x.d), **imshow_opt)\n",
    "print(\"prediction:\")\n",
    "print(y.d.argmax(axis=1).reshape(8, 8))"
   ]
  },
  {
   "cell_type": "markdown",
   "metadata": {},
   "source": [
    "Backward computation can be done on a dynamically constructed graph."
   ]
  },
  {
   "cell_type": "code",
   "execution_count": null,
   "metadata": {
    "collapsed": true
   },
   "outputs": [],
   "source": [
    "solver.zero_grad()\n",
    "loss.backward()"
   ]
  },
  {
   "cell_type": "markdown",
   "metadata": {},
   "source": [
    "## Multi-Layer Perceptron (MLP)"
   ]
  },
  {
   "cell_type": "markdown",
   "metadata": {},
   "source": [
    "In this section, you see an example of MLP graph building and training.\n",
    "\n",
    "Before starting, we clear all parameters registered in the logistic regression example."
   ]
  },
  {
   "cell_type": "code",
   "execution_count": null,
   "metadata": {
    "collapsed": true
   },
   "outputs": [],
   "source": [
    "nn.clear_parameters()  # Clear all parameters"
   ]
  },
  {
   "cell_type": "markdown",
   "metadata": {},
   "source": [
    "Here is the function that builds a MLP with an arbitrary depth and width for 10 class classification."
   ]
  },
  {
   "cell_type": "code",
   "execution_count": null,
   "metadata": {
    "collapsed": true
   },
   "outputs": [],
   "source": [
    "def mlp(x, hidden=[16, 32, 16]):\n",
    "    hs = []\n",
    "    with nn.parameter_scope(\"mlp\"):  # Parameter scope can be nested\n",
    "        h = x\n",
    "        for hid, hsize in enumerate(hidden):\n",
    "            with nn.parameter_scope(\"affine{}\".format(hid + 1)):\n",
    "                h = F.tanh(PF.affine(h, hsize))\n",
    "                hs.append(h)\n",
    "        with nn.parameter_scope(\"classifier\"):\n",
    "            y = PF.affine(h, 10)\n",
    "    return y, hs"
   ]
  },
  {
   "cell_type": "code",
   "execution_count": null,
   "metadata": {
    "collapsed": true
   },
   "outputs": [],
   "source": [
    "# Construct a MLP graph\n",
    "y, hs = mlp(x)"
   ]
  },
  {
   "cell_type": "code",
   "execution_count": null,
   "metadata": {},
   "outputs": [],
   "source": [
    "print(\"Printing shapes\")\n",
    "print(\"x:\", x.shape)\n",
    "for i, h in enumerate(hs):\n",
    "    print(\"h{}:\".format(i + 1), h.shape)\n",
    "print(\"y:\", y.shape)"
   ]
  },
  {
   "cell_type": "code",
   "execution_count": null,
   "metadata": {},
   "outputs": [],
   "source": [
    "# Training\n",
    "loss = logreg_loss(y, t)  # Reuse logreg loss function.\n",
    "\n",
    "# Copied from the above logreg example.\n",
    "def training(steps, learning_rate):\n",
    "    solver = S.Sgd(learning_rate)\n",
    "    solver.set_parameters(nn.get_parameters())  # Set parameter variables to be updated.\n",
    "    for i in range(steps):\n",
    "        x.d, t.d = data.next()\n",
    "        loss.forward()\n",
    "        solver.zero_grad()  # Initialize gradients of all parameters to zero.\n",
    "        loss.backward()\n",
    "        solver.weight_decay(1e-5)  # Applying weight decay as an regularization\n",
    "        solver.update()\n",
    "        if i % 100 == 0:  # Print for each 10 iterations\n",
    "            print(i, loss.d)\n",
    "            \n",
    "\n",
    "# Training\n",
    "training(1000, 1e-2)"
   ]
  },
  {
   "cell_type": "code",
   "execution_count": null,
   "metadata": {},
   "outputs": [],
   "source": [
    "# Showing responses for each layer\n",
    "num_plot = len(hs) + 2\n",
    "gid = 1\n",
    "\n",
    "def scale01(h):\n",
    "    return (h - h.min()) / (h.max() - h.min())\n",
    "\n",
    "def imshow(img, title):\n",
    "    global gid\n",
    "    plt.subplot(num_plot, 1, gid)\n",
    "    gid += 1\n",
    "    plt.title(title)\n",
    "    plt.imshow(img, **imshow_opt)\n",
    "    plt.axis('off')\n",
    "  \n",
    "plt.figure(figsize=(2, 5))\n",
    "imshow(x.d[0, 0], 'x')\n",
    "for hid, h in enumerate(hs):\n",
    "    imshow(scale01(h.d[0]).reshape(-1, 8), 'h{}'.format(hid + 1))\n",
    "imshow(scale01(y.d[0]).reshape(2, 5), 'y')"
   ]
  },
  {
   "cell_type": "markdown",
   "metadata": {},
   "source": [
    "## Convolutional Neural Network with CUDA acceleration\n",
    "\n",
    "Here we demonstrates a CNN with CUDA GPU acceleration."
   ]
  },
  {
   "cell_type": "code",
   "execution_count": null,
   "metadata": {
    "collapsed": true
   },
   "outputs": [],
   "source": [
    "nn.clear_parameters()"
   ]
  },
  {
   "cell_type": "code",
   "execution_count": null,
   "metadata": {
    "collapsed": true
   },
   "outputs": [],
   "source": [
    "def cnn(x):\n",
    "    with nn.parameter_scope(\"cnn\"):  # Parameter scope can be nested\n",
    "        with nn.parameter_scope(\"conv1\"):\n",
    "            c1 = F.tanh(PF.batch_normalization(\n",
    "                PF.convolution(x, 4, (3, 3), pad=(1, 1), stride=(2, 2))))\n",
    "        with nn.parameter_scope(\"conv2\"):\n",
    "            c2 = F.tanh(PF.batch_normalization(\n",
    "                PF.convolution(c1, 8, (3, 3), pad=(1, 1))))\n",
    "            c2 = F.average_pooling(c2, (2, 2))\n",
    "        with nn.parameter_scope(\"fc3\"):\n",
    "            fc3 = F.tanh(PF.affine(c2, 32))\n",
    "        with nn.parameter_scope(\"classifier\"):\n",
    "            y = PF.affine(fc3, 10)\n",
    "    return y, [c1, c2, fc3]"
   ]
  },
  {
   "cell_type": "markdown",
   "metadata": {},
   "source": [
    "To enable CUDA extension in NNabla, you have to install nnabla-ext-cuda package first. See [the install guide](http://nnabla.readthedocs.io/en/latest/python/installation.html).\n",
    "After installing the CUDA extension, you can easily switch to run on CUDA by specifying a context before building a graph. We strongly recommend using a CUDNN context that is fast. Although the context class can be instantiated by `nn.Context()`, specifying a context descriptor might be a bit complicated for users. There for we recommend create a context by using a helper function `get_extension_context()` found in the `nnabla.ext_utils` module.  NNabla officially supports `cpu` and `cudnn` as a context specifier passed to the first argument (extension name). NOTE: By setting the cudnn context as a global default context, Functions and solves created are instantiated with CUDNN (preferred) mode. You can also specify a context using `with nn.context_scope()`. See [API reference](http://nnabla.readthedocs.io/en/latest/python/api/common.html#context) for details."
   ]
  },
  {
   "cell_type": "code",
   "execution_count": null,
   "metadata": {},
   "outputs": [],
   "source": [
    "# Run on CUDA\n",
    "from nnabla.ext_utils import get_extension_context\n",
    "cuda_device_id = 0\n",
    "ctx = get_extension_context('cudnn', device_id=cuda_device_id)\n",
    "print(\"Context:\", ctx)\n",
    "nn.set_default_context(ctx)  # Set CUDA as a default context.\n",
    "y, hs = cnn(x)\n",
    "loss = logreg_loss(y, t)"
   ]
  },
  {
   "cell_type": "code",
   "execution_count": null,
   "metadata": {},
   "outputs": [],
   "source": [
    "training(1000, 1e-1)"
   ]
  },
  {
   "cell_type": "code",
   "execution_count": null,
   "metadata": {},
   "outputs": [],
   "source": [
    "# Showing responses for each layer\n",
    "num_plot = len(hs) + 2\n",
    "gid = 1\n",
    "plt.figure(figsize=(2, 8))\n",
    "imshow(x.d[0, 0], 'x')\n",
    "imshow(tile_images(hs[0].d[0][:, None]), 'conv1')\n",
    "imshow(tile_images(hs[1].d[0][:, None]), 'conv2')\n",
    "imshow(hs[2].d[0].reshape(-1, 8), 'fc3')\n",
    "imshow(scale01(y.d[0]).reshape(2, 5), 'y')"
   ]
  },
  {
   "cell_type": "markdown",
   "metadata": {},
   "source": [
    "`nn.save_parameters` writes parameters registered in `parameter_scope` system in HDF5 format. We use it a later example."
   ]
  },
  {
   "cell_type": "code",
   "execution_count": null,
   "metadata": {},
   "outputs": [],
   "source": [
    "path_cnn_params = \"tmp.params.cnn.h5\"\n",
    "nn.save_parameters(path_cnn_params)"
   ]
  },
  {
   "cell_type": "markdown",
   "metadata": {},
   "source": [
    "## Recurrent Neural Network (Elman RNN)\n",
    "This is an example of recurrent neural network training."
   ]
  },
  {
   "cell_type": "code",
   "execution_count": null,
   "metadata": {
    "collapsed": true
   },
   "outputs": [],
   "source": [
    "nn.clear_parameters()"
   ]
  },
  {
   "cell_type": "code",
   "execution_count": null,
   "metadata": {
    "collapsed": true
   },
   "outputs": [],
   "source": [
    "def rnn(xs, h0, hidden=32):\n",
    "    hs = []\n",
    "    with nn.parameter_scope(\"rnn\"):\n",
    "        h = h0\n",
    "        # Time step loop\n",
    "        for x in xs:\n",
    "            # Note: Parameter scopes are reused over time\n",
    "            # which means parameters are shared over time.\n",
    "            with nn.parameter_scope(\"x2h\"):\n",
    "                x2h = PF.affine(x, hidden, with_bias=False)\n",
    "            with nn.parameter_scope(\"h2h\"):\n",
    "                h2h = PF.affine(h, hidden)\n",
    "            h = F.tanh(x2h + h2h)\n",
    "            hs.append(h)\n",
    "        with nn.parameter_scope(\"classifier\"):\n",
    "            y = PF.affine(h, 10)\n",
    "    return y, hs"
   ]
  },
  {
   "cell_type": "markdown",
   "metadata": {},
   "source": [
    "It is not meaningful, but just a demonstration purpose. We split an image into 2 by 2 grids, and feed them sequentially into RNN."
   ]
  },
  {
   "cell_type": "code",
   "execution_count": null,
   "metadata": {
    "collapsed": true
   },
   "outputs": [],
   "source": [
    "def split_grid4(x):\n",
    "    x0 = x[..., :4, :4]\n",
    "    x1 = x[..., :4, 4:]\n",
    "    x2 = x[..., 4:, :4]\n",
    "    x3 = x[..., 4:, 4:]\n",
    "    return x0, x1, x2, x3"
   ]
  },
  {
   "cell_type": "code",
   "execution_count": null,
   "metadata": {
    "collapsed": true
   },
   "outputs": [],
   "source": [
    "hidden = 32\n",
    "seq_img = split_grid4(img)\n",
    "seq_x = [nn.Variable(subimg.shape) for subimg in seq_img]\n",
    "h0 = nn.Variable((img.shape[0], hidden))  # Initial hidden state.\n",
    "y, hs = rnn(seq_x, h0, hidden)\n",
    "loss = logreg_loss(y, t)"
   ]
  },
  {
   "cell_type": "code",
   "execution_count": null,
   "metadata": {
    "scrolled": true
   },
   "outputs": [],
   "source": [
    "# Copied from the above logreg example.\n",
    "def training_rnn(steps, learning_rate):\n",
    "    solver = S.Sgd(learning_rate)\n",
    "    solver.set_parameters(nn.get_parameters())  # Set parameter variables to be updated.\n",
    "    for i in range(steps):\n",
    "        minibatch = data.next()\n",
    "        img, t.d = minibatch\n",
    "        seq_img = split_grid4(img)\n",
    "        h0.d = 0  # Initialize as 0\n",
    "        for x, subimg in zip(seq_x, seq_img):\n",
    "            x.d = subimg\n",
    "        loss.forward()\n",
    "        solver.zero_grad()  # Initialize gradients of all parameters to zero.\n",
    "        loss.backward()\n",
    "        solver.weight_decay(1e-5)  # Applying weight decay as an regularization\n",
    "        solver.update()\n",
    "        if i % 100 == 0:  # Print for each 10 iterations\n",
    "            print(i, loss.d)\n",
    "\n",
    "training_rnn(1000, 1e-1)"
   ]
  },
  {
   "cell_type": "code",
   "execution_count": null,
   "metadata": {
    "scrolled": false
   },
   "outputs": [],
   "source": [
    "# Showing responses for each layer\n",
    "num_plot = len(hs) + 2\n",
    "gid = 1\n",
    "plt.figure(figsize=(2, 8))\n",
    "imshow(x.d[0, 0], 'x')\n",
    "for hid, h in enumerate(hs):\n",
    "    imshow(scale01(h.d[0]).reshape(-1, 8), 'h{}'.format(hid + 1))\n",
    "imshow(scale01(y.d[0]).reshape(2, 5), 'y')"
   ]
  },
  {
   "cell_type": "markdown",
   "metadata": {},
   "source": [
    "## Siamese Network\n",
    "This example show how to embed an image in a categorical dataset into 2D space using deep learning. This also demonstrates how to reuse a pretrained network.\n",
    "\n",
    "First, we load parameters learned in the CNN example."
   ]
  },
  {
   "cell_type": "code",
   "execution_count": null,
   "metadata": {},
   "outputs": [],
   "source": [
    "nn.clear_parameters()\n",
    "# Loading CNN pretrained parameters.\n",
    "_ = nn.load_parameters(path_cnn_params)"
   ]
  },
  {
   "cell_type": "markdown",
   "metadata": {},
   "source": [
    "We define embedding function. Note that the network structure and parameter hierarchy is identical to the previous CNN example. That enables you to reuse the saved parameters and finetune from it."
   ]
  },
  {
   "cell_type": "code",
   "execution_count": null,
   "metadata": {
    "collapsed": true
   },
   "outputs": [],
   "source": [
    "def cnn_embed(x, test=False):\n",
    "    # Note: Identical configuration with the CNN example above.\n",
    "    # Parameters pretrained in the above CNN example are used.\n",
    "    with nn.parameter_scope(\"cnn\"):\n",
    "        with nn.parameter_scope(\"conv1\"):\n",
    "            c1 = F.tanh(PF.batch_normalization(PF.convolution(x, 4, (3, 3), pad=(1, 1), stride=(2, 2)), batch_stat=not test))\n",
    "        with nn.parameter_scope(\"conv2\"):\n",
    "            c2 = F.tanh(PF.batch_normalization(PF.convolution(c1, 8, (3, 3), pad=(1, 1)), batch_stat=not test))\n",
    "            c2 = F.average_pooling(c2, (2, 2))\n",
    "        with nn.parameter_scope(\"fc3\"):\n",
    "            fc3 = PF.affine(c2, 32)\n",
    "    # Additional affine for map into 2D.\n",
    "    with nn.parameter_scope(\"embed2d\"):\n",
    "        embed = PF.affine(c2, 2)\n",
    "    return embed, [c1, c2, fc3]\n",
    "\n",
    "def siamese_loss(e0, e1, t, margin=1.0, eps=1e-4):\n",
    "    dist = F.sum(F.squared_error(e0, e1), axis=1)  # Squared distance\n",
    "    # Contrastive loss\n",
    "    sim_cost = t * dist\n",
    "    dissim_cost = (1 - t) * \\\n",
    "        (F.maximum_scalar(margin - (dist + eps) ** (0.5), 0) ** 2)\n",
    "    return F.mean(sim_cost + dissim_cost)"
   ]
  },
  {
   "cell_type": "markdown",
   "metadata": {},
   "source": [
    "We build two stream CNNs and compare them with the contrastive loss function defined above. Note that both CNNs have the same parameter hierarchy, which means both parameters are shared. "
   ]
  },
  {
   "cell_type": "code",
   "execution_count": null,
   "metadata": {
    "collapsed": true
   },
   "outputs": [],
   "source": [
    "x0 = nn.Variable(img.shape)\n",
    "x1 = nn.Variable(img.shape)\n",
    "t = nn.Variable((img.shape[0],))  # Same class or not\n",
    "e0, hs0 = cnn_embed(x0)\n",
    "e1, hs1 = cnn_embed(x1)  # NOTE: parameters are shared\n",
    "loss = siamese_loss(e0, e1, t)"
   ]
  },
  {
   "cell_type": "code",
   "execution_count": null,
   "metadata": {
    "scrolled": true
   },
   "outputs": [],
   "source": [
    "def training_siamese(steps):\n",
    "    for i in range(steps):\n",
    "        minibatchs = []\n",
    "        for _ in range(2):\n",
    "            minibatch = data.next()\n",
    "            minibatchs.append((minibatch[0].copy(), minibatch[1].copy()))\n",
    "        x0.d, label0 = minibatchs[0]\n",
    "        x1.d, label1 = minibatchs[1]\n",
    "        t.d = (label0 == label1).astype(np.int).flat\n",
    "        loss.forward()\n",
    "        solver.zero_grad()  # Initialize gradients of all parameters to zero.\n",
    "        loss.backward()\n",
    "        solver.weight_decay(1e-5)  # Applying weight decay as an regularization\n",
    "        solver.update()\n",
    "        if i % 100 == 0:  # Print for each 10 iterations\n",
    "            print(i, loss.d)\n",
    "learning_rate = 1e-2\n",
    "solver = S.Sgd(learning_rate)\n",
    "with nn.parameter_scope(\"embed2d\"):\n",
    "    # Only 2d embedding affine will be updated.\n",
    "    solver.set_parameters(nn.get_parameters())\n",
    "training_siamese(2000)\n",
    "# Decay learning rate\n",
    "solver.set_learning_rate(solver.learning_rate() * 0.1)\n",
    "training_siamese(2000)"
   ]
  },
  {
   "cell_type": "markdown",
   "metadata": {},
   "source": [
    "We visualize embedded training images as following. You see the images from the same class embedded near each other."
   ]
  },
  {
   "cell_type": "code",
   "execution_count": null,
   "metadata": {
    "collapsed": true
   },
   "outputs": [],
   "source": [
    "all_image = digits.images[:512, None]\n",
    "all_label = digits.target[:512]"
   ]
  },
  {
   "cell_type": "code",
   "execution_count": null,
   "metadata": {
    "collapsed": true
   },
   "outputs": [],
   "source": [
    "x_all = nn.Variable(all_image.shape)\n",
    "x_all.d = all_image"
   ]
  },
  {
   "cell_type": "code",
   "execution_count": null,
   "metadata": {
    "collapsed": true
   },
   "outputs": [],
   "source": [
    "with nn.auto_forward():\n",
    "    embed, _ = cnn_embed(x_all, test=True)"
   ]
  },
  {
   "cell_type": "code",
   "execution_count": null,
   "metadata": {},
   "outputs": [],
   "source": [
    "plt.figure(figsize=(16, 9))\n",
    "for i in range(10):\n",
    "    c = plt.cm.Set1(i / 10.)  # Maybe it doesn't work in an older version of Matplotlib where color map lies in [0, 256)\n",
    "    plt.plot(embed.d[all_label == i, 0].flatten(), embed.d[\n",
    "             all_label == i, 1].flatten(), '.', c=c)\n",
    "plt.legend(map(str, range(10)))\n",
    "plt.grid()"
   ]
  },
  {
   "cell_type": "markdown",
   "metadata": {},
   "source": [
    "## Appendix\n",
    "\n",
    "### A. Logistic Regression\n",
    "Here we demonstrate how to train the simplest neural network, logistic regression (single layer perceptron). Logistic regression is a linear classifier $f : {\\cal R}^{D\\times 1} \\rightarrow {\\cal R}^{K\\times 1}$\n",
    "\n",
    "$$\n",
    "\\mathbf f(\\mathbf x, \\mathbf \\Theta) = \\mathbf W \\mathbf x + \\mathbf b\n",
    "$$\n",
    "\n",
    "where $\\mathbf x \\in {\\cal R}^{D \\times 1}$ is an input image flattened to a vector, $t \\in \\{0, 1, \\cdots, K\\}$ is a target label, $\\mathbf W \\in {\\cal R}^{K \\times D}$ is a weight matrix, $\\mathbf b \\in {\\cal R}^{K \\times 1}$ is a bias vector and $\\mathbf \\Theta \\equiv \\left\\{\\mathbf W, \\mathbf b\\right\\}$. Loss function is defined as\n",
    "\n",
    "$$\n",
    "\\mathbf L(\\mathbf \\Theta, \\mathbf X) = \\frac{1}{N} \\sum_{\\mathbf x, t \\subset \\mathbf X}\n",
    "    -log \\left(\\left[\\sigma\\left(f(\\mathbf x, \\mathbf \\Theta)\\right)\\right]_{t}\\right)\n",
    "$$\n",
    "\n",
    "where $\\mathbf X \\equiv \\left\\{\\mathbf x_1, t_1, \\cdots, \\mathbf x_N, t_N\\right\\}$ denotes a dataset the network trained on, $\\sigma(\\mathbf z)$ is softmax operation defined as $\\frac{\\exp(-\\mathbf z)}{\\sum_{z \\subset \\mathbf z} \\exp(-z)}$, and $\\left[\\mathbf z\\right]_i$ denotes i-th element of $\\mathbf z$."
   ]
  }
 ],
 "metadata": {
  "kernelspec": {
   "display_name": "Python 3",
   "language": "python",
   "name": "python3"
  },
  "language_info": {
   "codemirror_mode": {
    "name": "ipython",
    "version": 3
   },
   "file_extension": ".py",
   "mimetype": "text/x-python",
   "name": "python",
   "nbconvert_exporter": "python",
   "pygments_lexer": "ipython3",
   "version": "3.5.2"
  }
 },
 "nbformat": 4,
 "nbformat_minor": 2
}
