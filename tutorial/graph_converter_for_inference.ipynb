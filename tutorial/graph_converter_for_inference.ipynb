{
 "cells": [
  {
   "cell_type": "markdown",
   "metadata": {},
   "source": [
    "# Graph Converter for Inference"
   ]
  },
  {
   "cell_type": "markdown",
   "metadata": {},
   "source": [
    "In this tutorial, we demonstrate several graph converters mainly used for inference. Graph converters are basically used for a trained graph, neural network, so once you train a neural network, you can use graph converters.  \n",
    "\n",
    "We show how to use the following graph converters step-by-step according to usecases."
   ]
  },
  {
   "cell_type": "markdown",
   "metadata": {},
   "source": [
    "1. BatchNormalizationLinearConverter\n",
    "2. BatchNormalizationFoldedConverter\n",
    "3. FixedPointWeightConverter\n",
    "4. FixedPointActivationConverter"
   ]
  },
  {
   "cell_type": "markdown",
   "metadata": {},
   "source": [
    "**Note** before starting the following instruction, import python modules needed."
   ]
  },
  {
   "cell_type": "code",
   "execution_count": null,
   "metadata": {
    "collapsed": false
   },
   "outputs": [],
   "source": [
    "# Import\n",
    "import numpy as np\n",
    "import nnabla as nn\n",
    "import nnabla.functions as F\n",
    "import nnabla.parametric_functions as PF\n",
    "\n",
    "import nnabla.experimental.viewers as V\n",
    "import nnabla.experimental.graph_converters as GC"
   ]
  },
  {
   "cell_type": "markdown",
   "metadata": {},
   "source": [
    "Also, define LeNet as the motif."
   ]
  },
  {
   "cell_type": "code",
   "execution_count": null,
   "metadata": {
    "collapsed": true
   },
   "outputs": [],
   "source": [
    "# LeNet\n",
    "def LeNet(image, test=False):\n",
    "    h = PF.convolution(image, 16, (5, 5), (1, 1), with_bias=False, name='conv1')\n",
    "    h = PF.batch_normalization(h, batch_stat=not test, name='conv1-bn')\n",
    "    h = F.max_pooling(h, (2, 2))\n",
    "    h = F.relu(h)\n",
    "\n",
    "    h = PF.convolution(h, 16, (5, 5), (1, 1), with_bias=True, name='conv2')\n",
    "    h = PF.batch_normalization(h, batch_stat=not test, name='conv2-bn')\n",
    "    h = F.max_pooling(h, (2, 2))\n",
    "    h = F.relu(h)\n",
    "     \n",
    "    h = PF.affine(h, 10, with_bias=False, name='fc1')\n",
    "    h = PF.batch_normalization(h, batch_stat=not test, name='fc1-bn')\n",
    "    h = F.relu(h)\n",
    "\n",
    "    pred = PF.affine(h, 10, with_bias=True, name='fc2')\n",
    "    return pred"
   ]
  },
  {
   "cell_type": "code",
   "execution_count": null,
   "metadata": {
    "collapsed": true
   },
   "outputs": [],
   "source": []
  },
  {
   "cell_type": "markdown",
   "metadata": {},
   "source": [
    "## BatchNormalizationLinearConverter"
   ]
  },
  {
   "cell_type": "markdown",
   "metadata": {},
   "source": [
    "Typical networks contain the batch normalization layers. It serves as normalization in a network and uses the batch stats (the batch mean and variance) to normalize inputs as \n",
    "\n",
    "$$\n",
    "z = \\gamma \\frac{x - \\mu}{\\sqrt{\\sigma^2 + \\epsilon}} + \\beta,\n",
    "$$\n",
    "\n",
    "\n",
    "in training. $\\mu$ and $\\sigma^2$ are the batch mean and variance, and $\\gamma$ and $\\beta$ are the scale and bias parameter to be learnt.\n",
    "\n",
    "At the same time, it computes the running stats (the exponential moving average $\\mu_r$ and variance $\\sigma_r^2$ of inputs to the batch normalization layer), which are used later for inference.\n",
    "\n",
    "\n",
    "If nothing changes, in inference time, the batch normalization is performed as in the above equation using the running stats.\n",
    "\n",
    "$$\n",
    "z = \\gamma \\frac{x - \\mu_r}{\\sqrt{\\sigma_r^2 + \\epsilon}} + \\beta.\n",
    "$$\n",
    "\n",
    "This is the explicit normalization, so as you can see, there are many redundant computations (subtraction, devision, pow2, sqrt, multiplication, addition) in inference, which should be avoided in inference graph. We can do it by ourselves, but it is apparently troublesome.\n",
    "\n",
    "BatchNormalizationLinearConverter automatically converts this equation of the batch normalization to the simple linear form as \n",
    "\n",
    "$$\n",
    "z = c_0 x + c_1, \\\\\n",
    "c_0 = \\frac{\\gamma}{\\sqrt{\\sigma_r^2 + \\epsilon}}, \\\\\n",
    "c_1 = \\beta - \\frac{\\gamma \\mu_r}{\\sqrt{\\sigma_r^2 + \\epsilon}}.\n",
    "$$\n"
   ]
  },
  {
   "cell_type": "markdown",
   "metadata": {},
   "source": [
    "After the conversion, we just have one multiplication and one addition since $c_0$ and $c_1$ can be precomputed in inference.\n",
    "\n",
    "Specifically, suppose that $x$ is the output of the 2D-Convolution, so $x$ is 3D-Tensor (e.g., $N \\times H \\times W$). In the batch normalization, the number of $c$s is the map size $N$, respectively for $c_0$ and $c_1$. Thus, the multiplication ($c_0 \\times x$) is $N \\times H \\times W$ and the addition ($ + c_1$) is same $N \\times H \\times W$. We can see much reduction compared to the native implementation."
   ]
  },
  {
   "cell_type": "markdown",
   "metadata": {},
   "source": [
    "### Example"
   ]
  },
  {
   "cell_type": "markdown",
   "metadata": {},
   "source": [
    "First, create LeNet."
   ]
  },
  {
   "cell_type": "code",
   "execution_count": null,
   "metadata": {
    "collapsed": true
   },
   "outputs": [],
   "source": [
    "x = nn.Variable.from_numpy_array(np.random.rand(4, 3, 28, 28))\n",
    "y = LeNet(x, test=True)"
   ]
  },
  {
   "cell_type": "markdown",
   "metadata": {},
   "source": [
    "Now look at LeNet visually."
   ]
  },
  {
   "cell_type": "code",
   "execution_count": null,
   "metadata": {
    "collapsed": false
   },
   "outputs": [],
   "source": [
    "viewer = V.SimpleGraph()\n",
    "viewer.view(y)"
   ]
  },
  {
   "cell_type": "markdown",
   "metadata": {},
   "source": [
    "Convert it to the one with the batch normalization linearly folded."
   ]
  },
  {
   "cell_type": "code",
   "execution_count": null,
   "metadata": {
    "collapsed": true
   },
   "outputs": [],
   "source": [
    "converter = GC.BatchNormalizationLinearConverter(name=\"bn-linear-lenet\")\n",
    "y = converter.convert(y, [x])"
   ]
  },
  {
   "cell_type": "markdown",
   "metadata": {},
   "source": [
    "Also, show the converted graph."
   ]
  },
  {
   "cell_type": "code",
   "execution_count": null,
   "metadata": {
    "collapsed": true
   },
   "outputs": [],
   "source": [
    "viewer = V.SimpleGraph()\n",
    "viewer.view(y)"
   ]
  },
  {
   "cell_type": "markdown",
   "metadata": {},
   "source": [
    "## BatchNormalizationFoldedConverter"
   ]
  },
  {
   "cell_type": "markdown",
   "metadata": {},
   "source": [
    "As you can see in the previous converter, BatchNormalizationLinearConverter is the linear folding of the batch normalization layer in inference. However, if the preceding layer of the batch normalization is the convolution, affine or another layer performing inner-product, that the linear folding is further folded into the weights of the preceding layers.\n",
    "\n",
    "Suppose the sequence of a convolution and a batch normalization in inference, it can be written as, \n",
    "\n",
    "$$\n",
    "z = c_0 \\times (w \\ast x + b) + c_1,\n",
    "$$\n",
    "\n",
    "where $\\ast$ is the convolutional operator, $w$ is the convolutional weights, and $b$ is the bias of the convolution layer. Since $\\ast$ has linearity, we can further fold $c_0$ into the weights $w$ and bias $b$, such that we have the simpler form.\n",
    "\n",
    "$$\n",
    "z = w' \\ast x + b', \\\\\n",
    "w' = c_0 w, \\\\\n",
    "b' = c_0 b + c_1.\n",
    "$$\n",
    "\n",
    "BatchNormalizationFoldedConverter automatically finds a sequence of the convolution and the batch normalization in a given graph, then folds all parameters related to the batch normalization into the preceding convolution layer. Now, we do not need the multiplication and addition seen in the previous case, BatchNormalizationLinearConverter."
   ]
  },
  {
   "cell_type": "markdown",
   "metadata": {},
   "source": [
    "### Example"
   ]
  },
  {
   "cell_type": "markdown",
   "metadata": {},
   "source": [
    "First, create LeNet."
   ]
  },
  {
   "cell_type": "code",
   "execution_count": null,
   "metadata": {
    "collapsed": true
   },
   "outputs": [],
   "source": [
    "x = nn.Variable.from_numpy_array(np.random.rand(4, 3, 28, 28))\n",
    "y = LeNet(x, test=True)"
   ]
  },
  {
   "cell_type": "markdown",
   "metadata": {},
   "source": [
    "Now look at LeNet visually."
   ]
  },
  {
   "cell_type": "code",
   "execution_count": null,
   "metadata": {
    "collapsed": false
   },
   "outputs": [],
   "source": [
    "viewer = V.SimpleGraph()\n",
    "viewer.view(y)"
   ]
  },
  {
   "cell_type": "markdown",
   "metadata": {},
   "source": [
    "Convert it to the one with the batch normalization linearly folded."
   ]
  },
  {
   "cell_type": "code",
   "execution_count": null,
   "metadata": {
    "collapsed": false
   },
   "outputs": [],
   "source": [
    "converter = GC.BatchNormalizationFoldedConverter(name=\"bn-folded-lenet\")\n",
    "y = converter.convert(y, [x])"
   ]
  },
  {
   "cell_type": "markdown",
   "metadata": {},
   "source": [
    "Also, show the converted graph."
   ]
  },
  {
   "cell_type": "code",
   "execution_count": null,
   "metadata": {
    "collapsed": true
   },
   "outputs": [],
   "source": [
    "viewer = V.SimpleGraph()\n",
    "viewer.view(y)"
   ]
  },
  {
   "cell_type": "markdown",
   "metadata": {},
   "source": [
    "## FixedPointWeightConverter"
   ]
  },
  {
   "cell_type": "markdown",
   "metadata": {},
   "source": [
    "Once training finishes, where to deploy? Your destination of deployment of a trained model might be on Cloud or an embedded device. In either case, the typical data type, FloatingPoint32 (FP32) might be redundant for inference, so you may want to use SIMD operation with e.g., 4-bit or 8-bit of your target device. Training is usually performed using FP32, while interfence might be performed FixedPoint. Hence, you have to change corresponding layers, e.g., the convolution and affine.\n",
    "\n",
    "FixedPointWeightConverter automatically converts the affine, convolution, and deconvolution of a given graph to that of fixed point version. "
   ]
  },
  {
   "cell_type": "markdown",
   "metadata": {},
   "source": [
    "### Example"
   ]
  },
  {
   "cell_type": "markdown",
   "metadata": {},
   "source": [
    "First, create LeNet."
   ]
  },
  {
   "cell_type": "code",
   "execution_count": null,
   "metadata": {
    "collapsed": true
   },
   "outputs": [],
   "source": [
    "x = nn.Variable.from_numpy_array(np.random.rand(4, 3, 28, 28))\n",
    "y = LeNet(x, test=True)"
   ]
  },
  {
   "cell_type": "markdown",
   "metadata": {},
   "source": [
    "Now look at LeNet visually."
   ]
  },
  {
   "cell_type": "code",
   "execution_count": null,
   "metadata": {
    "collapsed": false
   },
   "outputs": [],
   "source": [
    "viewer = V.SimpleGraph()\n",
    "viewer.view(y)"
   ]
  },
  {
   "cell_type": "markdown",
   "metadata": {},
   "source": [
    "Convert it to the one with the batch normalization linearly folded."
   ]
  },
  {
   "cell_type": "code",
   "execution_count": null,
   "metadata": {
    "collapsed": true
   },
   "outputs": [],
   "source": [
    "converter = GC.FixedPointWeightConverter(name=\"fixed-point-weight-lenet\")\n",
    "y = converter.convert(y, [x])"
   ]
  },
  {
   "cell_type": "markdown",
   "metadata": {},
   "source": [
    "Also, show the converted graph."
   ]
  },
  {
   "cell_type": "code",
   "execution_count": null,
   "metadata": {
    "collapsed": true
   },
   "outputs": [],
   "source": [
    "viewer = V.SimpleGraph()\n",
    "viewer.view(y)"
   ]
  },
  {
   "cell_type": "markdown",
   "metadata": {},
   "source": [
    "## FixedPointActivationConverter"
   ]
  },
  {
   "cell_type": "markdown",
   "metadata": {},
   "source": [
    "FixedPointWeightConverter converts layers of weights, but FixedPointActivationConverter automatically converts activation layers, e.g., ReLU. The typial neural network architecture contains the sequence of the block `ReLU -> Convolution -> BatchNormalization`; therefore, when you convert both `ReLU` and `Convolution` to the fixed-point ones with proper hyper-paremters (step-size and bitwidth), you can utilize your SIMD operation of your target device because both of the weights and inputs of the convolution are fixed-point. "
   ]
  },
  {
   "cell_type": "markdown",
   "metadata": {},
   "source": [
    "### Example"
   ]
  },
  {
   "cell_type": "markdown",
   "metadata": {},
   "source": [
    "First, create LeNet."
   ]
  },
  {
   "cell_type": "code",
   "execution_count": null,
   "metadata": {
    "collapsed": false
   },
   "outputs": [],
   "source": [
    "x = nn.Variable.from_numpy_array(np.random.rand(4, 3, 28, 28))\n",
    "y = LeNet(x, test=True)"
   ]
  },
  {
   "cell_type": "markdown",
   "metadata": {},
   "source": [
    "Now look at LeNet visually."
   ]
  },
  {
   "cell_type": "code",
   "execution_count": null,
   "metadata": {
    "collapsed": false
   },
   "outputs": [],
   "source": [
    "viewer = V.SimpleGraph()\n",
    "viewer.view(y)"
   ]
  },
  {
   "cell_type": "markdown",
   "metadata": {},
   "source": [
    "Convert it to the one with the batch normalization linearly folded."
   ]
  },
  {
   "cell_type": "code",
   "execution_count": null,
   "metadata": {
    "collapsed": true
   },
   "outputs": [],
   "source": [
    "converter = GC.FixedPointActivationConverter(name=\"fixed-point-activation-lenet\")\n",
    "y = converter.convert(y, [x])"
   ]
  },
  {
   "cell_type": "markdown",
   "metadata": {},
   "source": [
    "Also, show the converted graph."
   ]
  },
  {
   "cell_type": "code",
   "execution_count": null,
   "metadata": {
    "collapsed": true
   },
   "outputs": [],
   "source": [
    "viewer = V.SimpleGraph()\n",
    "viewer.view(y)"
   ]
  },
  {
   "cell_type": "markdown",
   "metadata": {},
   "source": [
    "Tipically, FixedPointWeightConverter and FixedPointActivationConverter are used togather. For such purposes, you can use `GC.SequentialConverter`."
   ]
  },
  {
   "cell_type": "code",
   "execution_count": null,
   "metadata": {
    "collapsed": false
   },
   "outputs": [],
   "source": [
    "converter_w = GC.FixedPointWeightConverter(name=\"fixed-point-lenet\")\n",
    "converter_a = GC.FixedPointActivationConverter(name=\"fixed-point-lenet\")\n",
    "converter = GC.SequentialConverter([converter_w, converter_a])\n",
    "y = converter.convert(y, [x])"
   ]
  },
  {
   "cell_type": "markdown",
   "metadata": {},
   "source": [
    "Needless to say, `GC.SequentialConverter` is not limited to using this case. One you creat your own `Conveterter`s, then you can add these converters to `GC.SequentialConverter` if these are used togather.\n",
    "\n",
    "Look at the converted graph visually."
   ]
  },
  {
   "cell_type": "code",
   "execution_count": null,
   "metadata": {
    "collapsed": true
   },
   "outputs": [],
   "source": [
    "viewer = V.SimpleGraph()\n",
    "viewer.view(y)"
   ]
  }
 ],
 "metadata": {
  "kernelspec": {
   "display_name": "Python 2",
   "language": "python",
   "name": "python2"
  },
  "language_info": {
   "codemirror_mode": {
    "name": "ipython",
    "version": 2
   },
   "file_extension": ".py",
   "mimetype": "text/x-python",
   "name": "python",
   "nbconvert_exporter": "python",
   "pygments_lexer": "ipython2",
   "version": "2.7.12"
  }
 },
 "nbformat": 4,
 "nbformat_minor": 1
}
